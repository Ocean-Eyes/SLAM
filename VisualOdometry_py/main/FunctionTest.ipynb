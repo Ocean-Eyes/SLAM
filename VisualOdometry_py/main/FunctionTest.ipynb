{
 "cells": [
  {
   "cell_type": "markdown",
   "metadata": {},
   "source": [
    "## os.path.join()"
   ]
  },
  {
   "cell_type": "code",
   "execution_count": 6,
   "metadata": {},
   "outputs": [
    {
     "name": "stdout",
     "output_type": "stream",
     "text": [
      "C:\\Users\\Autonav\\github_repo\\SLAM\\VisualOdometry_py\\main\\KITTI_sequence_1\\image_l\\000000.png\n"
     ]
    }
   ],
   "source": [
    "import os\n",
    "\n",
    "DIRECTORY = \"C:\\\\Users\\\\Autonav\\\\github_repo\\\\SLAM\\\\VisualOdometry_py\\\\main\\\\KITTI_sequence_1\\\\image_l\"\n",
    "filename = \"000000.png\"\n",
    "print(os.path.join(DIRECTORY, filename))"
   ]
  },
  {
   "cell_type": "markdown",
   "metadata": {},
   "source": [
    "## cv2.ORB_create() / detectAndCompute / cv2.drawKeypoints()"
   ]
  },
  {
   "cell_type": "code",
   "execution_count": 4,
   "metadata": {},
   "outputs": [],
   "source": [
    "import cv2\n",
    "\n",
    "img = cv2.imread('../main/building.jpg')\n",
    "gray = cv2.cvtColor(img, cv2.COLOR_BGR2GRAY)\n",
    "\n",
    "# ORB detector 생성\n",
    "orb = cv2.ORB_create()\n",
    "\"\"\"\n",
    "nfeatures(optional): 검출할 최대 특징 수 (default=500)\n",
    "scaleFactor(optional): 이미지 피라미드 비율 (default=1.2)\n",
    "nlevels(optional): 이미지 피라미드 계층 수 (default=8)\n",
    "edgeThreshold(optional): 검색에서 제외할 테두리 크기, patchSize와 맞출 것 (default=31)\n",
    "firstLevel(optional): 최초 이미지 피라미드 계층 단계 (default=0)\n",
    "WTA_K(optional): 임의 좌표 생성 수 (default=2)\n",
    "scoreType(optional): 특징점 검출에 사용할 방식 (cv2.ORB_HARRIS_SCORE: 해리스 코너 검출(default), cv2.ORB_FAST_SCORE: FAST 코너 검출)\n",
    "patchSize(optional): 디스크립터의 패치 크기 (default=31)\n",
    "fastThreshold(optional): FAST에 사용할 임계 값 (default=20)\n",
    "\"\"\"\n",
    "# 특징점 검출(detect)과 desciptor 추출(compute)\n",
    "# descriptor는 특징점 주변 픽셀을 일정 크기의 블록으로 나누어 각 블록에 속한 픽셀의 그레디언트 히스토그램을 계산한 것.\n",
    "keypoints, descriptor = orb.detectAndCompute(img, None)\n",
    "\n",
    "# 특징점 그리기 - OpenCV에서 cv2.drawKeypoints() 제공해서 cv2.circle로 특징점 나타낼 필요 없음.\n",
    "img_draw = cv2.drawKeypoints(img, keypoints, None, \\\n",
    "             flags=cv2.DRAW_MATCHES_FLAGS_DRAW_RICH_KEYPOINTS)\n",
    "\n",
    "# 결과 출력\n",
    "cv2.imshow('ORB', img_draw)\n",
    "cv2.waitKey()\n",
    "cv2.destroyAllWindows()"
   ]
  },
  {
   "cell_type": "markdown",
   "metadata": {},
   "source": [
    "## cv2.FlannBasedMatcher() / knnMatch() / cv2.drawMatches()"
   ]
  },
  {
   "cell_type": "code",
   "execution_count": 7,
   "metadata": {},
   "outputs": [],
   "source": [
    "# FLANNMatcher와 ORB로 매칭 (match_flann_orb.py)\n",
    "\n",
    "import cv2, numpy as np\n",
    "\n",
    "img1 = cv2.imread('../main/KITTI_sequence_1/image_l/000000.png')\n",
    "img2 = cv2.imread('../main/KITTI_sequence_1/image_l/000001.png')\n",
    "gray1 = cv2.cvtColor(img1, cv2.COLOR_BGR2GRAY)\n",
    "gray2 = cv2.cvtColor(img2, cv2.COLOR_BGR2GRAY)\n",
    "\n",
    "# ORB 추출기 생성\n",
    "detector = cv2.ORB_create() \n",
    "# 키 포인트와 서술자 추출\n",
    "kp1, desc1 = detector.detectAndCompute(gray1, None)\n",
    "kp2, desc2 = detector.detectAndCompute(gray2, None)\n",
    "\n",
    "# 인덱스 파라미터 설정 ---①\n",
    "FLANN_INDEX_LSH = 6\n",
    "index_params= dict(algorithm = FLANN_INDEX_LSH,\n",
    "                   table_number = 6,\n",
    "                   key_size = 12,\n",
    "                   multi_probe_level = 1)\n",
    "# 검색 파라미터 설정 ---②\n",
    "search_params=dict(checks=32)\n",
    "# Flann 매처 생성 ---③\n",
    "matcher = cv2.FlannBasedMatcher(index_params, search_params)    # BFMatcher()도 있다.\n",
    "# 매칭 계산 ---④\n",
    "matches = matcher.match(desc1, desc2)   # 여기에 match(), knnMatch()(k-nearest neighbor), radiusMatch()를 이용가능\n",
    "# 매칭 그리기\n",
    "res = cv2.drawMatches(img1, kp1, img2, kp2, matches, None, \\\n",
    "            flags=cv2.DRAW_MATCHES_FLAGS_NOT_DRAW_SINGLE_POINTS)\n",
    "# 결과 출력            \n",
    "cv2.imshow('Flann + ORB', res)\n",
    "cv2.waitKey()\n",
    "cv2.destroyAllWindows()"
   ]
  },
  {
   "cell_type": "markdown",
   "metadata": {},
   "source": [
    "## np.squeeze()"
   ]
  },
  {
   "cell_type": "code",
   "execution_count": 8,
   "metadata": {},
   "outputs": [
    {
     "name": "stdout",
     "output_type": "stream",
     "text": [
      "(1, 1, 3, 3) \n",
      "\n",
      "[[1 2 3]\n",
      " [4 5 6]\n",
      " [7 8 9]]\n"
     ]
    }
   ],
   "source": [
    "import numpy as np\n",
    "\n",
    "a = np.array([[[[1, 2, 3],\n",
    "              [4, 5, 6],\n",
    "              [7, 8, 9]]]])\n",
    "\n",
    "print(a.shape, \"\\n\")\n",
    "\n",
    "\n",
    "print(np.squeeze(a))"
   ]
  },
  {
   "cell_type": "markdown",
   "metadata": {},
   "source": [
    "## tqdm"
   ]
  },
  {
   "cell_type": "code",
   "execution_count": 9,
   "metadata": {},
   "outputs": [
    {
     "name": "stderr",
     "output_type": "stream",
     "text": [
      "100%|██████████| 4/4 [00:04<00:00,  1.00s/it]\n"
     ]
    }
   ],
   "source": [
    "from tqdm import tqdm\n",
    "import time\n",
    "\n",
    "text = \"\"\n",
    "\n",
    "for x in tqdm([\"a\", \"b\", \"c\", \"d\"]):\n",
    "    time.sleep(1)\n",
    "    text = text + x\n"
   ]
  }
 ],
 "metadata": {
  "kernelspec": {
   "display_name": "base",
   "language": "python",
   "name": "python3"
  },
  "language_info": {
   "codemirror_mode": {
    "name": "ipython",
    "version": 3
   },
   "file_extension": ".py",
   "mimetype": "text/x-python",
   "name": "python",
   "nbconvert_exporter": "python",
   "pygments_lexer": "ipython3",
   "version": "3.11.4"
  },
  "orig_nbformat": 4
 },
 "nbformat": 4,
 "nbformat_minor": 2
}
